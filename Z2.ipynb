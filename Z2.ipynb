{
 "cells": [
  {
   "cell_type": "markdown",
   "metadata": {},
   "source": [
    "In this notebook we will simulate First Passage Percolation on the Two-Dimensional Integer lattice, and illustrate the convergence in measure of the rescaled ball of radius n 1/n*B_n to a fixed shape. \n",
    "\n",
    "(TODO: double check) While this convergence was proved in 1990 by Boivin, to the author's best knowledge, the shape that the balls converge _to_ is yet undetermined."
   ]
  },
  {
   "cell_type": "code",
   "execution_count": 11,
   "metadata": {},
   "outputs": [],
   "source": [
    "import numpy as np\n",
    "import random"
   ]
  },
  {
   "cell_type": "code",
   "execution_count": 58,
   "metadata": {},
   "outputs": [],
   "source": [
    "N = 1"
   ]
  },
  {
   "cell_type": "code",
   "execution_count": 118,
   "metadata": {},
   "outputs": [],
   "source": [
    "def add_tuple(t1, t2): #python dicts can't have arrays as keys, so we'll use tuples. We'll need to add tuples later.\n",
    "    return(tuple(map(sum, zip(t1, t2))))\n",
    "\n",
    "def get_l1_norm(tuple):\n",
    "    return(np.linalg.norm(np.array(tuple), ord=1))\n",
    "\n",
    "def get_random_weight():\n",
    "    return(random.choice([1,2]))\n",
    "\n",
    "def initialize_points(N):\n",
    "    '''Use L-infinity norm to initialize relevant integer points'''\n",
    "    pts = {(x,y) for x in range(-N, N+1) for y in range(-N,N+1)}\n",
    "    return(pts)\n",
    "\n",
    "def initialize_edges_and_weights(N):\n",
    "    pts = initialize_points(N)\n",
    "    edges = {}\n",
    "    for pt in pts:\n",
    "        for unit_vector in [(1,0), (0,1)]:\n",
    "            if add_tuple(pt, unit_vector) in pts:\n",
    "                edges[(pt, add_tuple(pt, unit_vector))] = get_random_weight()\n",
    "    return(pts, edges)\n",
    "\n",
    "def get_costs(N):\n",
    "    #assign a cost to each point by iterating over L1 norm\n",
    "    pts, edges = initialize_edges_and_weights(N)\n",
    "    costs = {}\n",
    "    \n",
    "    costs[(0,0)] = 0\n",
    "    for k in range(1,N+1):\n",
    "        Bk = [pt for pt in pts if get_l1_norm(pt)==k]\n",
    "        for pt in Bk:\n",
    "            #find euclidean geodesic extensions to pt by checking if cost of preceding point is calculated\n",
    "            #find associated costs. take min.\n",
    "            #this is avoiding hard-coding logic about the quadrant the current point is in\n",
    "            curr_costs = []\n",
    "            if get_l1_norm(add_tuple(pt, (1,0))) == k-1:\n",
    "                incremental_cost = edges[(pt, add_tuple(pt, (1,0)))]\n",
    "                total_cost = costs[add_tuple(pt, (1,0))] + incremental_cost\n",
    "                curr_costs.append(total_cost)\n",
    "            if get_l1_norm(add_tuple(pt, (0,1))) == k-1:\n",
    "                incremental_cost = edges[(pt, add_tuple(pt, (0,1)))]\n",
    "                total_cost = costs[add_tuple(pt, (0,1))] + incremental_cost\n",
    "                curr_costs.append(total_cost)\n",
    "            if get_l1_norm(add_tuple(pt, (-1,0))) == k-1:\n",
    "                incremental_cost = edges[(add_tuple(pt, (-1,0)), pt)]\n",
    "                total_cost = costs[add_tuple(pt, (-1,0))] + incremental_cost\n",
    "                curr_costs.append(total_cost)\n",
    "            if get_l1_norm(add_tuple(pt, (0,-1))) == k-1:\n",
    "                incremental_cost = edges[(add_tuple(pt, (0,-1)), pt)]\n",
    "                total_cost = costs[add_tuple(pt, (0,-1))] + incremental_cost\n",
    "                curr_costs.append(total_cost)\n",
    "            curr_cost = min(curr_costs)\n",
    "            costs[pt] = curr_cost\n",
    "    return(edges, costs)"
   ]
  },
  {
   "cell_type": "code",
   "execution_count": 119,
   "metadata": {},
   "outputs": [
    {
     "name": "stdout",
     "output_type": "stream",
     "text": [
      "{(0, 0): 0, (-1, 0): 1, (1, 0): 2, (0, -1): 2, (0, 1): 2, (-1, 1): 3, (-2, 0): 2, (0, -2): 4, (0, 2): 4, (2, 0): 4, (-1, -1): 3, (1, -1): 3, (1, 1): 4, (3, 0): 6, (-2, 1): 3, (2, -1): 4, (0, 3): 5, (0, -3): 5, (2, 1): 5, (-2, -1): 3, (-1, -2): 4, (-1, 2): 4, (1, -2): 4, (-3, 0): 4, (1, 2): 6, (0, -4): 6, (3, 1): 7, (2, -2): 5, (2, 2): 7, (-3, -1): 5, (0, 4): 6, (4, 0): 7, (-4, 0): 5, (3, -1): 6, (-1, 3): 5, (-2, -2): 4, (-3, 1): 5, (-2, 2): 5, (1, 3): 7, (-1, -3): 5, (1, -3): 5, (0, 5): 7, (-4, -1): 6, (0, -5): 7, (2, 3): 8, (-5, 0): 6, (-1, -4): 6, (2, -3): 6, (-1, 4): 7, (1, -4): 6, (-3, -2): 6, (-3, 2): 6, (4, 1): 9, (1, 4): 7, (-4, 1): 6, (3, -2): 6, (3, 2): 8, (-2, 3): 7, (5, 0): 8, (-2, -3): 6, (4, -1): 7, (4, 2): 10, (-4, -2): 7, (-5, 1): 7, (-4, 2): 7, (6, 0): 10, (-2, -4): 7, (-1, 5): 8, (5, -1): 8, (-3, 3): 7, (-1, -5): 7, (-2, 4): 8, (1, 5): 9, (1, -5): 7, (-3, -3): 7, (0, -6): 9, (3, 3): 10, (-5, -1): 7, (2, -4): 8, (3, -3): 8, (5, 1): 9, (2, 4): 8, (-6, 0): 8, (0, 6): 9, (4, -2): 8, (-4, 3): 8, (3, -4): 9, (-4, -3): 8, (-1, 6): 9, (3, 4): 9, (-2, 5): 9, (-6, -1): 8, (5, -2): 10, (-2, -5): 8, (5, 2): 10, (4, -3): 9, (-7, 0): 10, (1, -6): 9, (0, 7): 10, (0, -7): 11, (7, 0): 11, (-5, -2): 8, (2, 5): 9, (-5, 2): 8, (6, -1): 9, (-1, -6): 8, (-6, 1): 8, (2, -5): 9, (-3, -4): 9, (6, 1): 10, (-3, 4): 8, (4, 3): 11, (1, 6): 10, (8, 0): 13, (7, -1): 11, (-8, 0): 11, (3, 5): 10, (-2, 6): 11, (2, -6): 11, (3, -5): 10, (5, 3): 12, (-6, -2): 10, (-7, 1): 9, (-6, 2): 9, (5, -3): 10, (0, 8): 11, (4, -4): 11, (7, 1): 11, (-4, -4): 10, (2, 6): 10, (-5, 3): 10, (-4, 4): 9, (6, -2): 11, (-2, -6): 9, (-5, -3): 10, (6, 2): 11, (-1, 7): 10, (-1, -7): 9, (-3, 5): 10, (4, 4): 10, (1, 7): 11, (1, -7): 10, (-7, -1): 10, (-3, -5): 10, (0, -8): 13, (-8, 1): 11, (3, 6): 12, (0, -9): 15, (0, 9): 12, (7, -2): 13, (7, 2): 12, (-5, -4): 11, (2, 7): 12, (2, -7): 12, (-6, 3): 10, (-3, -6): 10, (9, 0): 15, (-6, -3): 11, (4, 5): 11, (8, -1): 12, (4, -5): 11, (-5, 4): 10, (-4, 5): 11, (-8, -1): 12, (3, -6): 11, (-4, -5): 11, (6, 3): 12, (-1, 8): 12, (-9, 0): 13, (-3, 6): 12, (-2, 7): 11, (1, 8): 12, (5, -4): 12, (6, -3): 11, (-2, -7): 10, (5, 4): 12, (-1, -8): 11, (-7, -2): 11, (8, 1): 13, (-7, 2): 11, (1, -8): 11, (-4, -6): 12, (7, 3): 13, (0, -10): 16, (2, 8): 14, (-5, 5): 12, (7, -3): 12, (6, -4): 13, (-9, -1): 14, (-5, -5): 13, (9, 1): 14, (-1, -9): 13, (6, 4): 14, (-1, 9): 13, (-10, 0): 14, (2, -8): 13, (-3, 7): 12, (4, 6): 13, (1, -9): 12, (1, 9): 13, (-3, -7): 12, (-4, 6): 12, (8, -2): 13, (8, 2): 13, (-8, -2): 12, (-8, 2): 12, (3, 7): 13, (-9, 1): 12, (3, -7): 12, (-2, 8): 13, (10, 0): 17, (-6, -4): 12, (5, 5): 12, (9, -1): 14, (-7, 3): 12, (5, -5): 13, (-6, 4): 11, (-2, -8): 12, (4, -6): 12, (0, 10): 14, (-7, -3): 13}\n"
     ]
    }
   ],
   "source": [
    "#26 seconds to compute costs for N=100 on one sample. Should be acceptable.\n",
    "edges, costs = get_costs(N=10)\n",
    "print(costs)"
   ]
  },
  {
   "cell_type": "code",
   "execution_count": 117,
   "metadata": {},
   "outputs": [
    {
     "data": {
      "text/plain": [
       "1"
      ]
     },
     "execution_count": 117,
     "metadata": {},
     "output_type": "execute_result"
    }
   ],
   "source": []
  },
  {
   "cell_type": "code",
   "execution_count": 75,
   "metadata": {},
   "outputs": [
    {
     "data": {
      "text/plain": [
       "4.0"
      ]
     },
     "execution_count": 75,
     "metadata": {},
     "output_type": "execute_result"
    }
   ],
   "source": [
    "x = (2,2)\n",
    "np.linalg.norm(np.array(x), ord=1)"
   ]
  },
  {
   "cell_type": "code",
   "execution_count": null,
   "metadata": {},
   "outputs": [],
   "source": []
  },
  {
   "cell_type": "code",
   "execution_count": null,
   "metadata": {},
   "outputs": [],
   "source": []
  },
  {
   "cell_type": "code",
   "execution_count": 66,
   "metadata": {},
   "outputs": [
    {
     "name": "stdout",
     "output_type": "stream",
     "text": [
      "84\n",
      "{((3, -2), (3, -1)): 1, ((3, -1), (3, 0)): 1, ((3, 1), (3, 2)): 1, ((-3, -3), (-2, -3)): 1, ((-3, -3), (-3, -2)): 2, ((-3, 0), (-2, 0)): 2, ((-3, 0), (-3, 1)): 1, ((-3, 3), (-2, 3)): 2, ((0, 2), (1, 2)): 1, ((0, 2), (0, 3)): 2, ((1, -3), (2, -3)): 1, ((1, -3), (1, -2)): 2, ((2, 2), (3, 2)): 1, ((2, 2), (2, 3)): 2, ((1, 0), (2, 0)): 1, ((1, 0), (1, 1)): 1, ((1, 3), (2, 3)): 1, ((-2, -2), (-1, -2)): 2, ((-2, -2), (-2, -1)): 1, ((-2, -1), (-1, -1)): 2, ((-2, -1), (-2, 0)): 2, ((-1, -2), (0, -2)): 1, ((-1, -2), (-1, -1)): 2, ((-1, -1), (0, -1)): 1, ((-1, -1), (-1, 0)): 1, ((-2, 1), (-1, 1)): 2, ((-2, 1), (-2, 2)): 2, ((-1, 1), (0, 1)): 1, ((-1, 1), (-1, 2)): 1, ((3, -3), (3, -2)): 2, ((3, 0), (3, 1)): 1, ((-3, 2), (-2, 2)): 1, ((-3, 2), (-3, 3)): 2, ((0, -2), (1, -2)): 1, ((0, -2), (0, -1)): 2, ((0, -1), (1, -1)): 1, ((0, -1), (0, 0)): 1, ((0, 1), (1, 1)): 1, ((0, 1), (0, 2)): 1, ((2, -2), (3, -2)): 2, ((2, -2), (2, -1)): 1, ((2, -1), (3, -1)): 1, ((2, -1), (2, 0)): 2, ((1, 2), (2, 2)): 2, ((1, 2), (1, 3)): 2, ((2, 1), (3, 1)): 1, ((2, 1), (2, 2)): 1, ((-2, -3), (-1, -3)): 2, ((-2, -3), (-2, -2)): 1, ((-1, -3), (0, -3)): 1, ((-1, -3), (-1, -2)): 1, ((-2, 0), (-1, 0)): 1, ((-2, 0), (-2, 1)): 1, ((-1, 0), (0, 0)): 2, ((-1, 0), (-1, 1)): 1, ((-2, 3), (-1, 3)): 2, ((-1, 3), (0, 3)): 1, ((3, 2), (3, 3)): 1, ((-1, 2), (0, 2)): 2, ((-1, 2), (-1, 3)): 2, ((-3, -2), (-2, -2)): 1, ((-3, -2), (-3, -1)): 2, ((-3, -1), (-2, -1)): 1, ((-3, -1), (-3, 0)): 1, ((0, -3), (1, -3)): 2, ((0, -3), (0, -2)): 1, ((-3, 1), (-2, 1)): 1, ((-3, 1), (-3, 2)): 1, ((0, 0), (1, 0)): 2, ((0, 0), (0, 1)): 1, ((2, -3), (3, -3)): 2, ((2, -3), (2, -2)): 2, ((1, 1), (2, 1)): 1, ((1, 1), (1, 2)): 1, ((0, 3), (1, 3)): 1, ((2, 0), (3, 0)): 1, ((2, 0), (2, 1)): 2, ((1, -2), (2, -2)): 1, ((1, -2), (1, -1)): 1, ((1, -1), (2, -1)): 2, ((1, -1), (1, 0)): 2, ((2, 3), (3, 3)): 1, ((-2, 2), (-1, 2)): 1, ((-2, 2), (-2, 3)): 1}\n"
     ]
    }
   ],
   "source": [
    "edges = initialize_edges_and_weights(3)\n",
    "print(len(edges))\n",
    "print(edges)"
   ]
  },
  {
   "cell_type": "code",
   "execution_count": 68,
   "metadata": {},
   "outputs": [
    {
     "data": {
      "text/plain": [
       "1"
      ]
     },
     "execution_count": 68,
     "metadata": {},
     "output_type": "execute_result"
    }
   ],
   "source": [
    "edges[((0,0),(0,1))]"
   ]
  },
  {
   "cell_type": "code",
   "execution_count": 69,
   "metadata": {},
   "outputs": [
    {
     "data": {
      "text/plain": [
       "{((3, -2), (3, -1)): 1,\n",
       " ((3, -1), (3, 0)): 1,\n",
       " ((3, 1), (3, 2)): 1,\n",
       " ((-3, -3), (-2, -3)): 1,\n",
       " ((-3, -3), (-3, -2)): 2,\n",
       " ((-3, 0), (-2, 0)): 2,\n",
       " ((-3, 0), (-3, 1)): 1,\n",
       " ((-3, 3), (-2, 3)): 2,\n",
       " ((0, 2), (1, 2)): 1,\n",
       " ((0, 2), (0, 3)): 2,\n",
       " ((1, -3), (2, -3)): 1,\n",
       " ((1, -3), (1, -2)): 2,\n",
       " ((2, 2), (3, 2)): 1,\n",
       " ((2, 2), (2, 3)): 2,\n",
       " ((1, 0), (2, 0)): 1,\n",
       " ((1, 0), (1, 1)): 1,\n",
       " ((1, 3), (2, 3)): 1,\n",
       " ((-2, -2), (-1, -2)): 2,\n",
       " ((-2, -2), (-2, -1)): 1,\n",
       " ((-2, -1), (-1, -1)): 2,\n",
       " ((-2, -1), (-2, 0)): 2,\n",
       " ((-1, -2), (0, -2)): 1,\n",
       " ((-1, -2), (-1, -1)): 2,\n",
       " ((-1, -1), (0, -1)): 1,\n",
       " ((-1, -1), (-1, 0)): 1,\n",
       " ((-2, 1), (-1, 1)): 2,\n",
       " ((-2, 1), (-2, 2)): 2,\n",
       " ((-1, 1), (0, 1)): 1,\n",
       " ((-1, 1), (-1, 2)): 1,\n",
       " ((3, -3), (3, -2)): 2,\n",
       " ((3, 0), (3, 1)): 1,\n",
       " ((-3, 2), (-2, 2)): 1,\n",
       " ((-3, 2), (-3, 3)): 2,\n",
       " ((0, -2), (1, -2)): 1,\n",
       " ((0, -2), (0, -1)): 2,\n",
       " ((0, -1), (1, -1)): 1,\n",
       " ((0, -1), (0, 0)): 1,\n",
       " ((0, 1), (1, 1)): 1,\n",
       " ((0, 1), (0, 2)): 1,\n",
       " ((2, -2), (3, -2)): 2,\n",
       " ((2, -2), (2, -1)): 1,\n",
       " ((2, -1), (3, -1)): 1,\n",
       " ((2, -1), (2, 0)): 2,\n",
       " ((1, 2), (2, 2)): 2,\n",
       " ((1, 2), (1, 3)): 2,\n",
       " ((2, 1), (3, 1)): 1,\n",
       " ((2, 1), (2, 2)): 1,\n",
       " ((-2, -3), (-1, -3)): 2,\n",
       " ((-2, -3), (-2, -2)): 1,\n",
       " ((-1, -3), (0, -3)): 1,\n",
       " ((-1, -3), (-1, -2)): 1,\n",
       " ((-2, 0), (-1, 0)): 1,\n",
       " ((-2, 0), (-2, 1)): 1,\n",
       " ((-1, 0), (0, 0)): 2,\n",
       " ((-1, 0), (-1, 1)): 1,\n",
       " ((-2, 3), (-1, 3)): 2,\n",
       " ((-1, 3), (0, 3)): 1,\n",
       " ((3, 2), (3, 3)): 1,\n",
       " ((-1, 2), (0, 2)): 2,\n",
       " ((-1, 2), (-1, 3)): 2,\n",
       " ((-3, -2), (-2, -2)): 1,\n",
       " ((-3, -2), (-3, -1)): 2,\n",
       " ((-3, -1), (-2, -1)): 1,\n",
       " ((-3, -1), (-3, 0)): 1,\n",
       " ((0, -3), (1, -3)): 2,\n",
       " ((0, -3), (0, -2)): 1,\n",
       " ((-3, 1), (-2, 1)): 1,\n",
       " ((-3, 1), (-3, 2)): 1,\n",
       " ((0, 0), (1, 0)): 2,\n",
       " ((0, 0), (0, 1)): 1,\n",
       " ((2, -3), (3, -3)): 2,\n",
       " ((2, -3), (2, -2)): 2,\n",
       " ((1, 1), (2, 1)): 1,\n",
       " ((1, 1), (1, 2)): 1,\n",
       " ((0, 3), (1, 3)): 1,\n",
       " ((2, 0), (3, 0)): 1,\n",
       " ((2, 0), (2, 1)): 2,\n",
       " ((1, -2), (2, -2)): 1,\n",
       " ((1, -2), (1, -1)): 1,\n",
       " ((1, -1), (2, -1)): 2,\n",
       " ((1, -1), (1, 0)): 2,\n",
       " ((2, 3), (3, 3)): 1,\n",
       " ((-2, 2), (-1, 2)): 1,\n",
       " ((-2, 2), (-2, 3)): 1}"
      ]
     },
     "execution_count": 69,
     "metadata": {},
     "output_type": "execute_result"
    }
   ],
   "source": [
    "edges"
   ]
  },
  {
   "cell_type": "code",
   "execution_count": null,
   "metadata": {},
   "outputs": [],
   "source": []
  }
 ],
 "metadata": {
  "kernelspec": {
   "display_name": "Python 3",
   "language": "python",
   "name": "python3"
  },
  "language_info": {
   "codemirror_mode": {
    "name": "ipython",
    "version": 3
   },
   "file_extension": ".py",
   "mimetype": "text/x-python",
   "name": "python",
   "nbconvert_exporter": "python",
   "pygments_lexer": "ipython3",
   "version": "3.9.6"
  },
  "orig_nbformat": 4
 },
 "nbformat": 4,
 "nbformat_minor": 2
}
